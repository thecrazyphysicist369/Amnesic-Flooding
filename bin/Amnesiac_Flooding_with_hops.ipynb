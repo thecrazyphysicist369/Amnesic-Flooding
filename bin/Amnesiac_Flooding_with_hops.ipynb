{
  "nbformat": 4,
  "nbformat_minor": 0,
  "metadata": {
    "colab": {
      "name": "Amnesiac Flooding with hops.ipynb",
      "provenance": [],
      "include_colab_link": true
    },
    "kernelspec": {
      "name": "python3",
      "display_name": "Python 3"
    },
    "language_info": {
      "name": "python"
    }
  },
  "cells": [
    {
      "cell_type": "markdown",
      "metadata": {
        "id": "view-in-github",
        "colab_type": "text"
      },
      "source": [
        "<a href=\"https://colab.research.google.com/github/thecrazyphysicist369/Amnesic-Flooding/blob/main/Amnesiac_Flooding_with_hops.ipynb\" target=\"_parent\"><img src=\"https://colab.research.google.com/assets/colab-badge.svg\" alt=\"Open In Colab\"/></a>"
      ]
    },
    {
      "cell_type": "code",
      "metadata": {
        "id": "mYBe2qj1ZkGc"
      },
      "source": [
        "#Importing all the necessary libraries\n",
        "import matplotlib.pyplot as plt\n",
        "import networkx as nx\n",
        "import random\n",
        "import numpy as np\n",
        "import time\n",
        "import math\n",
        "from __future__ import print_function\n",
        "from ipywidgets import interact, interactive, fixed, interact_manual\n",
        "import ipywidgets as widgets\n",
        "import pandas as pd"
      ],
      "execution_count": null,
      "outputs": []
    },
    {
      "cell_type": "code",
      "metadata": {
        "id": "FZHsYPQoaKww"
      },
      "source": [
        "#vertex generator generates each individual with their properties\n",
        "def gen_vertex(n,percent):\n",
        "    ver_list=[]\n",
        "    c=0\n",
        "\n",
        "    for i in range(n):\n",
        "      vertex = {\n",
        "                'index': c, \t\t\t# the unique index of the voter\n",
        "                'connected': [] ,  # the small world connections between the individuals\n",
        "                'memory': [], \n",
        "                'generator' : random.randint(0,percent) ,\n",
        "                'msg_sharability' : random.randint(0,10),\n",
        "                'node_sharability' : 0,\n",
        "                'mymsg':'0',\n",
        "                'cur_msg':[]\n",
        "                }\n",
        "      ver_list.append(vertex)\n",
        "      c+=1\n",
        "    return ver_list\n",
        "\n",
        "#Generating the Small World Network\n",
        "def gen_graph(n, k, p,percent):\n",
        "   population = gen_vertex(n,percent)\n",
        "   G = nx.watts_strogatz_graph(n, k, p, seed=10)\n",
        "   neighbor = []\n",
        "   for node in list(sorted(G.nodes())):\n",
        "   \tneighbours = list(nx.all_neighbors(G, node))\n",
        "   \tneighbor.append(neighbours)\n",
        "   for i in range(n):\n",
        "     population[i]['connected'] = neighbor[i]\n",
        "     population[i]['index'] = int(i)\n",
        "     population[i]['node_sharability'] = random.randint(0,k)\n",
        "   return population\n",
        "\n"
      ],
      "execution_count": null,
      "outputs": []
    },
    {
      "cell_type": "code",
      "metadata": {
        "id": "h3bd1H6PMEKS"
      },
      "source": [
        " '''\n",
        "this function generates and returns a list of msgs of strings. \n",
        "\n",
        "'''\n",
        "def msgList():\n",
        "  list1=[]\n",
        "  for i in range(60,123) :\n",
        "    for j in range(60,123) :\n",
        "      p=chr(i)+chr(j)\n",
        "      list1.append(p)\n",
        "  return list1\n"
      ],
      "execution_count": null,
      "outputs": []
    },
    {
      "cell_type": "code",
      "metadata": {
        "id": "AaFo2HFxMQdT"
      },
      "source": [
        "'''\n",
        "this function randomly chooses from the list of msg and assigns it to one of the nodes that are generators \n",
        "'''\n",
        "def  msgGeneration(population):\n",
        "  dict={}\n",
        "  list1=msgList()\n",
        "  for i in population:\n",
        "    if(i['generator']==1 ):\n",
        "      l=random.randint(0,len(list1)-1)\n",
        "      dict[list1[l]]=0\n",
        "      i['mymsg']=list1[l]\n",
        "      list1.pop(l)\n",
        "  #print(len(list1))\n",
        "  return dict\n",
        "\n",
        "\n",
        "#population\n",
        "\n"
      ],
      "execution_count": null,
      "outputs": []
    },
    {
      "cell_type": "code",
      "metadata": {
        "id": "t7ZSK--0MZ60"
      },
      "source": [
        "def avgHopsCalc(population,k,dict):\n",
        "  nxt=[]\n",
        "  cur=[]\n",
        "  for node in population:\n",
        "    if(node['generator']==1 ):\n",
        "      #print(node['index'])\n",
        "      nxt.append(node['index'])\n",
        "      node['cur_msg'].append(node['mymsg'])\n",
        "  \n",
        "  \n",
        "  round=0\n",
        "  while(True):\n",
        "    #print(nxt)\n",
        "    if(len(nxt)==0):\n",
        "      break\n",
        "    cur=nxt\n",
        "    nxt=[]\n",
        "    \n",
        "    round=round+1\n",
        "    for el in cur:\n",
        "      for adj in population[el]['connected']:\n",
        "        flag=0\n",
        "        for msg in population[el]['cur_msg']:\n",
        "          dict[msg]+=1\n",
        "          if(msg in population[adj]['memory']):\n",
        "            #print(\"pass\",\" \",msg,\" \",el,\" \",adj)\n",
        "            continue\n",
        "          if(len(population[adj]['memory'])>=k):\n",
        "            flag=1\n",
        "            population[adj]['memory'].pop(0)\n",
        "            population[adj]['cur_msg'].append(msg)\n",
        "            #print(el,\" \",adj,\" \",population[adj]['cur_msg'],\" memm---\",population[adj]['memory'])\n",
        "            population[adj]['memory'].append(msg)\n",
        "          else:\n",
        "            flag=1\n",
        "            population[adj]['cur_msg'].append(msg)\n",
        "            population[adj]['memory'].append(msg)\n",
        "           # print(\"gyyygyg--- \",el,\" \",adj,\" \",population[adj]['cur_msg'],\" memm---\",population[adj]['memory'])\n",
        "\n",
        "        if(flag==1):\n",
        "          if(adj not in nxt):\n",
        "            nxt.append(adj)\n",
        "      population[el]['cur_msg']=[]\n",
        "      \n",
        "      #print(round)\n",
        "      sum=0\n",
        "      for keys in dict:\n",
        "        sum=sum+dict[keys]\n",
        "      avg=sum/len(dict)\n",
        "  print(round)\n",
        "  return avg\n",
        "\n",
        "\n",
        "\n",
        "\n",
        "\n"
      ],
      "execution_count": null,
      "outputs": []
    },
    {
      "cell_type": "code",
      "metadata": {
        "id": "1MZqQBgUM34s"
      },
      "source": [
        "def user_input(no_nodes,no_of_connected_components,p,percent):\n",
        "  population = gen_graph(no_nodes, no_of_connected_components, p,percent)\n",
        "  g=0\n",
        "  x=[] ##g*n-1,g*n\n",
        "  y=[]\n",
        "  m=0\n",
        "  s=0\n",
        "  dict={}\n",
        "  for node in population:\n",
        "    if(node['generator']==1):\n",
        "      g=g+1\n",
        "  dict=msgGeneration(population)\n",
        "  print(g)\n",
        "  for k in range(g,2*g+5):\n",
        "    for node in population:\n",
        "      node['cur_msg']=[]\n",
        "      node['memory']=[]\n",
        "    population1=population\n",
        "    for keys in dict:\n",
        "      dict[keys]=0\n",
        "    r=avgHopsCalc(population,k,dict)\n",
        "    x.append(k)\n",
        "    y.append(r)\n",
        "  x_train=np.array(x)\n",
        "  y_train=np.array(y)\n",
        "  #print(g)\n",
        "  plt.plot(x_train, y_train)\n",
        "  plt.xlabel(\"memory_assigned_to_each_node\")\n",
        "  plt.ylabel(\"avg_hops\")\n",
        "  plt.show()\n",
        "#population\n"
      ],
      "execution_count": null,
      "outputs": []
    },
    {
      "cell_type": "code",
      "metadata": {
        "colab": {
          "base_uri": "https://localhost:8080/",
          "height": 564
        },
        "id": "_ktrvpTuPnfj",
        "outputId": "3746293f-4619-4484-b566-52d399c6ca13"
      },
      "source": [
        "user_input(100,6,.3,8)"
      ],
      "execution_count": null,
      "outputs": [
        {
          "output_type": "stream",
          "text": [
            "10\n",
            "4\n",
            "4\n",
            "4\n",
            "4\n",
            "4\n",
            "4\n",
            "4\n",
            "4\n",
            "4\n",
            "4\n",
            "4\n",
            "4\n",
            "4\n",
            "4\n",
            "4\n"
          ],
          "name": "stdout"
        },
        {
          "output_type": "display_data",
          "data": {
            "image/png": "[encoded data removed]",
            "text/plain": [
              "<Figure size 432x288 with 1 Axes>"
            ]
          },
          "metadata": {
            "tags": [],
            "needs_background": "light"
          }
        }
      ]
    },
    {
      "cell_type": "code",
      "metadata": {
        "id": "_sl7evLRdk0h"
      },
      "source": [
        ""
      ],
      "execution_count": null,
      "outputs": []
    }
  ]
}
