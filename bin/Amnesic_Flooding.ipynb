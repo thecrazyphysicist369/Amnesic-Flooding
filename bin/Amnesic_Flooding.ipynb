{
  "nbformat": 4,
  "nbformat_minor": 0,
  "metadata": {
    "colab": {
      "name": "Amnesic Flooding.ipynb",
      "provenance": [],
      "collapsed_sections": [],
      "include_colab_link": true
    },
    "kernelspec": {
      "display_name": "Python 3",
      "name": "python3"
    },
    "language_info": {
      "name": "python"
    }
  },
  "cells": [
    {
      "cell_type": "markdown",
      "metadata": {
        "id": "view-in-github",
        "colab_type": "text"
      },
      "source": [
        "<a href=\"https://colab.research.google.com/github/thecrazyphysicist369/Amnesic-Flooding/blob/main/Amnesic_Flooding.ipynb\" target=\"_parent\"><img src=\"https://colab.research.google.com/assets/colab-badge.svg\" alt=\"Open In Colab\"/></a>"
      ]
    },
    {
      "cell_type": "markdown",
      "metadata": {
        "id": "4R_prqhV5eQx"
      },
      "source": [
        "###This is the code to test the consequences of Amnesic Flooding in a Wattz-Strogatz Small World Network.\n",
        "\n",
        "A WS-Small world network is created with user input of:\n",
        "\n",
        "\n",
        "*   **n** = *Number of individuals in the population. This is similar to the number of nodes in the small world network*.\n",
        "*   **k** = *Number of nearest-neighbours. The number of nodes connected to each node in the small world network.*\n",
        "*   **p** = *Probability of the length of connection between the nodes of the small world network.*\n"
      ]
    },
    {
      "cell_type": "code",
      "metadata": {
        "id": "RxMKQ-4SXJLA"
      },
      "source": [
        "#Importing all the necessary libraries\n",
        "import matplotlib.pyplot as plt\n",
        "import networkx as nx\n",
        "import random\n",
        "import numpy as np\n",
        "import time\n",
        "import math\n",
        "from __future__ import print_function\n",
        "from ipywidgets import interact, interactive, fixed, interact_manual\n",
        "import ipywidgets as widgets\n",
        "import pandas as pd\n",
        "import time"
      ],
      "execution_count": null,
      "outputs": []
    },
    {
      "cell_type": "markdown",
      "metadata": {
        "id": "ol9gcV9TXR8v"
      },
      "source": [
        "### Generating the Population\n"
      ]
    },
    {
      "cell_type": "code",
      "metadata": {
        "id": "bbYj-X-tTBpT"
      },
      "source": [
        "#vertex generator generates each individual with their properties\n",
        "def gen_vertex(n,percent):\n",
        "    ver_list=[]\n",
        "    c=0\n",
        "\n",
        "    for i in range(n):\n",
        "      vertex = {\n",
        "                'index': c, \t\t\t# the unique index of the voter\n",
        "                'connected': [] ,  # the small world connections between the individuals\n",
        "                'memory': [], \n",
        "                'generator' : random.randint(0,percent) ,\n",
        "                'msg_sharability' : random.randint(0,10),\n",
        "                'node_sharability' : 0,\n",
        "                'mymsg':'0',\n",
        "                'cur_msg':[]\n",
        "                }\n",
        "      ver_list.append(vertex)\n",
        "      c+=1\n",
        "    return ver_list\n",
        "\n",
        "#Generating the Small World Network\n",
        "def gen_graph(n, k, p,percent):\n",
        "   population = gen_vertex(n,percent)\n",
        "   G = nx.watts_strogatz_graph(n, k, p, seed=10)\n",
        "   neighbor = []\n",
        "   for node in list(sorted(G.nodes())):\n",
        "   \tneighbours = list(nx.all_neighbors(G, node))\n",
        "   \tneighbor.append(neighbours)\n",
        "   for i in range(n):\n",
        "     population[i]['connected'] = neighbor[i]\n",
        "     population[i]['index'] = int(i)\n",
        "     population[i]['node_sharability'] = random.randint(0,k)\n",
        "   return population\n",
        "\n"
      ],
      "execution_count": null,
      "outputs": []
    },
    {
      "cell_type": "markdown",
      "metadata": {
        "id": "_87QRlYSXwtB"
      },
      "source": [
        "###Creating the list of possible messages"
      ]
    },
    {
      "cell_type": "code",
      "metadata": {
        "id": "95aznxHNXQ_k"
      },
      "source": [
        " '''\n",
        "this function generates and returns a list of msgs of strings. \n",
        "\n",
        "'''\n",
        "def msgList():\n",
        "  list1=[]\n",
        "  for i in range(60,123) :\n",
        "    for j in range(60,123) :\n",
        "      p=chr(i)+chr(j)\n",
        "      list1.append(p)\n",
        "  return list1\n"
      ],
      "execution_count": null,
      "outputs": []
    },
    {
      "cell_type": "markdown",
      "metadata": {
        "id": "mp4zX9G7Ab1A"
      },
      "source": [
        "### Generation of messages by few nodes"
      ]
    },
    {
      "cell_type": "code",
      "metadata": {
        "id": "0QuW1U9rAcFk"
      },
      "source": [
        "'''\n",
        "this function randomly chooses from the list of msg and assigns it to one of the nodes that are generators \n",
        "'''\n",
        "def  msgGeneration(population):\n",
        "  list1=msgList()\n",
        "  for i in population:\n",
        "    if(i['generator']==1 ):\n",
        "      l=random.randint(0,len(list1))\n",
        "      i['mymsg']=list1[l]\n",
        "      list1.pop(l)\n",
        "  #print(len(list1))\n",
        "\n",
        "\n",
        "#population\n",
        "\n"
      ],
      "execution_count": null,
      "outputs": []
    },
    {
      "cell_type": "markdown",
      "metadata": {
        "id": "USiG_X5XAty9"
      },
      "source": [
        "### Distribution of messages all over the graph"
      ]
    },
    {
      "cell_type": "code",
      "metadata": {
        "id": "0pmc-vhgAt9H"
      },
      "source": [
        "'''\n",
        "This function is for passing the information.\n",
        "It takes one vertex at a time\n",
        "It checks if the vertex's neighbors has the same message as the vertex.\n",
        "If it doesn't have, the vertex sends the message to the neighbor.\n",
        "'''\n",
        "def roundcalc_Unique_msg(population,k):\n",
        "  nxt=[]\n",
        "  cur=[]\n",
        "  for node in population:\n",
        "    if(node['generator']==1 ):\n",
        "      #print(node['index'])\n",
        "      nxt.append(node['index'])\n",
        "      node['cur_msg'].append(node['mymsg'])\n",
        "  \n",
        "  \n",
        "  round=0\n",
        "  while(True):\n",
        "    #print(nxt)\n",
        "    if(len(nxt)==0):\n",
        "      break\n",
        "    cur=nxt\n",
        "    nxt=[]\n",
        "    \n",
        "    round=round+1\n",
        "    for el in cur:\n",
        "      for adj in population[el]['connected']:\n",
        "        flag=0\n",
        "        for msg in population[el]['cur_msg']:\n",
        "          msg=msg[:2]+str(el)\n",
        "          #print(msg)\n",
        "          if(msg in population[adj]['memory']):\n",
        "            #print(\"pass\",\" \",msg,\" \",el,\" \",adj)\n",
        "            continue\n",
        "          if(len(population[adj]['memory'])>=k):\n",
        "            flag=1\n",
        "            population[adj]['memory'].pop(0)\n",
        "            population[adj]['cur_msg'].append(msg)\n",
        "            #print(el,\" \",adj,\" \",population[adj]['cur_msg'],\" memm---\",population[adj]['memory'])\n",
        "            population[adj]['memory'].append(msg)\n",
        "          else:\n",
        "            flag=1\n",
        "            population[adj]['cur_msg'].append(msg)\n",
        "            population[adj]['memory'].append(msg)\n",
        "           # print(\"gyyygyg--- \",el,\" \",adj,\" \",population[adj]['cur_msg'],\" memm---\",population[adj]['memory'])\n",
        "\n",
        "        if(flag==1):\n",
        "          if(adj not in nxt):\n",
        "            nxt.append(adj)\n",
        "      population[el]['cur_msg']=[]\n",
        "      \n",
        "      #print(round)\n",
        "  #print(round,end=\" \")\n",
        "  return round\n",
        "\n",
        "\n",
        "\n",
        "\n",
        "\n"
      ],
      "execution_count": null,
      "outputs": []
    },
    {
      "cell_type": "markdown",
      "metadata": {
        "id": "h6ausGo6A3pw"
      },
      "source": [
        "###Nuber of Rounds Vs Memory Size\n",
        "\n",
        "###The Main Function\n"
      ]
    },
    {
      "cell_type": "markdown",
      "metadata": {
        "id": "6fCz8B7aLPv7"
      },
      "source": [
        "This function plots the output but doesn't save the data in a .csv file"
      ]
    },
    {
      "cell_type": "code",
      "metadata": {
        "id": "iq5XVeTKA3zT"
      },
      "source": [
        "\n",
        "def user_input(no_nodes,no_of_connected_components,p,percent):\n",
        "  population = gen_graph(no_nodes, no_of_connected_components, p,percent)\n",
        "  g=0\n",
        "  x=[] ##g*n-1,g*n\n",
        "  y=[]\n",
        "  m=0\n",
        "  s=0\n",
        "  for node in population:\n",
        "    if(node['generator']==1):\n",
        "      g=g+1\n",
        "  msgGeneration(population)\n",
        "  print(g)\n",
        "  for k in range(g*(no_of_connected_components-1),g*(no_of_connected_components+2)):\n",
        "    for node in population:\n",
        "      node['cur_msg']=[]\n",
        "      node['memory']=[]\n",
        "    population1=population\n",
        "    r=roundcalc_Unique_msg(population,k)\n",
        "    x.append(k)\n",
        "    y.append(r)\n",
        "  x_train=np.array(x)\n",
        "  y_train=np.array(y)\n",
        "  print(g)\n",
        "  plt.plot(x_train, y_train)\n",
        "  plt.xlabel(\"memory_assigned_to_each_node\")\n",
        "  plt.ylabel(\"no_of_rounds\")\n",
        "  plt.show()\n",
        "#population\n"
      ],
      "execution_count": null,
      "outputs": []
    },
    {
      "cell_type": "markdown",
      "metadata": {
        "id": "xmr8eZTzLZ7B"
      },
      "source": [
        "This function saves the output as a .csv file along with plotting the output in a graph"
      ]
    },
    {
      "cell_type": "code",
      "metadata": {
        "id": "w_XTWgNGa_ni"
      },
      "source": [
        "##User_input\n",
        "def simulation(no_nodes,no_of_connected_components,p,percent,obs_no):\n",
        "  population = gen_graph(no_nodes, no_of_connected_components, p,percent)\n",
        "  g=0\n",
        "  x=[] ##g*n-1,g*n\n",
        "  y=[]\n",
        "  for node in population:\n",
        "    if(node['generator']==1):\n",
        "      g=g+1\n",
        "  msgGeneration(population)\n",
        "  #print(g)\n",
        "  time_elapsed = 0\n",
        "  #for k in range(g*(no_of_connected_components-1),g*(no_of_connected_components+3)):\n",
        "  low = g*(no_of_connected_components-1)\n",
        "  high = g*(no_of_connected_components+3)\n",
        "  for k in range(low, high):\n",
        "    tic = time.time()\n",
        "    for node in population:\n",
        "      node['cur_msg']=[]\n",
        "      node['memory']=[]\n",
        "    population1=population\n",
        "    r=roundcalc_Unique_msg(population,k)\n",
        "    x.append(k)\n",
        "    y.append(r)\n",
        "    toc = time.time()\n",
        "    time_elapsed = time_elapsed + math.ceil(toc-tic)\n",
        "    time_remaining = (high-k)*math.ceil(toc-tic)\n",
        "    print(\"Executing Iteration: \", k-low, \" Time taken: \", math.ceil(toc-tic),\"s \", \"Elapsed time: \", time_elapsed, \"s Est. Time remaining: \", time_remaining,\"s\")\n",
        "  x_train=np.array(x)\n",
        "  y_train=np.array(y)\n",
        "  #print(g)\n",
        "  plt.plot(x_train, y_train)\n",
        "  plt.xlabel(\"memory_assigned_to_each_node\")\n",
        "  plt.ylabel(\"no_of_rounds\")\n",
        "  plt.show()\n",
        "  no_connected=[]\n",
        "  no_of_generators=[]\n",
        "  dist_probability=[]\n",
        "  for j in x_train:\n",
        "    no_connected.append(no_of_connected_components)\n",
        "    no_of_generators.append(g)\n",
        "    dist_probability.append(p)\n",
        "  frame=np.array([x_train,y_train,no_connected,no_of_generators,dist_probability])\n",
        "  dataset=pd.DataFrame(frame)\n",
        "  dataset=dataset.T\n",
        "  dataset.columns=[\"memory_assigned_to_each_node\",\"no_of_rounds\",\"no_connected_components\",\"no_of_generator\",\"distance_prob\"]\n",
        "  dataset.to_csv(\"observation\"+obs_no+\".csv\")\n",
        "#population\n",
        "\n"
      ],
      "execution_count": null,
      "outputs": []
    },
    {
      "cell_type": "code",
      "metadata": {
        "colab": {
          "background_save": true
        },
        "id": "GVZ9UNIMfjiy",
        "outputId": "4236bca9-db8c-4e4f-bd85-45258ec53ee2"
      },
      "source": [
        "pop = int(input(\"The number of nodes the small world network (population) has : \"))\n",
        "neighbors = int(input(\"The number of nearest-neighbors for each nodes : \"))\n",
        "prob =  float(input(\"The probability of length of the edges : \"))\n",
        "generators = int(input(\"The percent of nodes in the population those who generate content : \"))\n",
        "name = input(\"A unique name to store your .csv file. WARNING: Same name can overwrite files permanently : \")\n",
        "simulation(pop, neighbors, prob, generators, name)\n",
        "#user_input(250,4,0.5,9,\"2\")"
      ],
      "execution_count": null,
      "outputs": [
        {
          "output_type": "error",
          "ename": "KeyboardInterrupt",
          "evalue": "ignored",
          "traceback": [
            "\u001b[0;31m---------------------------------------------------------------------------\u001b[0m",
            "\u001b[0;31mKeyboardInterrupt\u001b[0m                         Traceback (most recent call last)",
            "\u001b[0;32m<ipython-input-7-784ff6f3003a>\u001b[0m in \u001b[0;36m<module>\u001b[0;34m()\u001b[0m\n\u001b[1;32m      4\u001b[0m \u001b[0mgenerators\u001b[0m \u001b[0;34m=\u001b[0m \u001b[0mint\u001b[0m\u001b[0;34m(\u001b[0m\u001b[0minput\u001b[0m\u001b[0;34m(\u001b[0m\u001b[0;34m\"The percent of nodes in the population those who generate content : \"\u001b[0m\u001b[0;34m)\u001b[0m\u001b[0;34m)\u001b[0m\u001b[0;34m\u001b[0m\u001b[0;34m\u001b[0m\u001b[0m\n\u001b[1;32m      5\u001b[0m \u001b[0mname\u001b[0m \u001b[0;34m=\u001b[0m \u001b[0minput\u001b[0m\u001b[0;34m(\u001b[0m\u001b[0;34m\"A unique name to store your .csv file. WARNING: Same name can overwrite files permanently : \"\u001b[0m\u001b[0;34m)\u001b[0m\u001b[0;34m\u001b[0m\u001b[0;34m\u001b[0m\u001b[0m\n\u001b[0;32m----> 6\u001b[0;31m \u001b[0msimulation\u001b[0m\u001b[0;34m(\u001b[0m\u001b[0mpop\u001b[0m\u001b[0;34m,\u001b[0m \u001b[0mneighbors\u001b[0m\u001b[0;34m,\u001b[0m \u001b[0mprob\u001b[0m\u001b[0;34m,\u001b[0m \u001b[0mgenerators\u001b[0m\u001b[0;34m,\u001b[0m \u001b[0mname\u001b[0m\u001b[0;34m)\u001b[0m\u001b[0;34m\u001b[0m\u001b[0;34m\u001b[0m\u001b[0m\n\u001b[0m\u001b[1;32m      7\u001b[0m \u001b[0;31m#user_input(250,4,0.5,9,\"2\")\u001b[0m\u001b[0;34m\u001b[0m\u001b[0;34m\u001b[0m\u001b[0;34m\u001b[0m\u001b[0m\n",
            "\u001b[0;32m<ipython-input-6-9efb30baeacc>\u001b[0m in \u001b[0;36msimulation\u001b[0;34m(no_nodes, no_of_connected_components, p, percent, obs_no)\u001b[0m\n\u001b[1;32m     20\u001b[0m       \u001b[0mnode\u001b[0m\u001b[0;34m[\u001b[0m\u001b[0;34m'memory'\u001b[0m\u001b[0;34m]\u001b[0m\u001b[0;34m=\u001b[0m\u001b[0;34m[\u001b[0m\u001b[0;34m]\u001b[0m\u001b[0;34m\u001b[0m\u001b[0;34m\u001b[0m\u001b[0m\n\u001b[1;32m     21\u001b[0m     \u001b[0mpopulation1\u001b[0m\u001b[0;34m=\u001b[0m\u001b[0mpopulation\u001b[0m\u001b[0;34m\u001b[0m\u001b[0;34m\u001b[0m\u001b[0m\n\u001b[0;32m---> 22\u001b[0;31m     \u001b[0mr\u001b[0m\u001b[0;34m=\u001b[0m\u001b[0mroundcalc_Unique_msg\u001b[0m\u001b[0;34m(\u001b[0m\u001b[0mpopulation\u001b[0m\u001b[0;34m,\u001b[0m\u001b[0mk\u001b[0m\u001b[0;34m)\u001b[0m\u001b[0;34m\u001b[0m\u001b[0;34m\u001b[0m\u001b[0m\n\u001b[0m\u001b[1;32m     23\u001b[0m     \u001b[0mx\u001b[0m\u001b[0;34m.\u001b[0m\u001b[0mappend\u001b[0m\u001b[0;34m(\u001b[0m\u001b[0mk\u001b[0m\u001b[0;34m)\u001b[0m\u001b[0;34m\u001b[0m\u001b[0;34m\u001b[0m\u001b[0m\n\u001b[1;32m     24\u001b[0m     \u001b[0my\u001b[0m\u001b[0;34m.\u001b[0m\u001b[0mappend\u001b[0m\u001b[0;34m(\u001b[0m\u001b[0mr\u001b[0m\u001b[0;34m)\u001b[0m\u001b[0;34m\u001b[0m\u001b[0;34m\u001b[0m\u001b[0m\n",
            "\u001b[0;32m<ipython-input-5-14f31f984330>\u001b[0m in \u001b[0;36mroundcalc_Unique_msg\u001b[0;34m(population, k)\u001b[0m\n\u001b[1;32m     30\u001b[0m           \u001b[0mmsg\u001b[0m\u001b[0;34m=\u001b[0m\u001b[0mmsg\u001b[0m\u001b[0;34m[\u001b[0m\u001b[0;34m:\u001b[0m\u001b[0;36m2\u001b[0m\u001b[0;34m]\u001b[0m\u001b[0;34m+\u001b[0m\u001b[0mstr\u001b[0m\u001b[0;34m(\u001b[0m\u001b[0mel\u001b[0m\u001b[0;34m)\u001b[0m\u001b[0;34m\u001b[0m\u001b[0;34m\u001b[0m\u001b[0m\n\u001b[1;32m     31\u001b[0m           \u001b[0;31m#print(msg)\u001b[0m\u001b[0;34m\u001b[0m\u001b[0;34m\u001b[0m\u001b[0;34m\u001b[0m\u001b[0m\n\u001b[0;32m---> 32\u001b[0;31m           \u001b[0;32mif\u001b[0m\u001b[0;34m(\u001b[0m\u001b[0mmsg\u001b[0m \u001b[0;32min\u001b[0m \u001b[0mpopulation\u001b[0m\u001b[0;34m[\u001b[0m\u001b[0madj\u001b[0m\u001b[0;34m]\u001b[0m\u001b[0;34m[\u001b[0m\u001b[0;34m'memory'\u001b[0m\u001b[0;34m]\u001b[0m\u001b[0;34m)\u001b[0m\u001b[0;34m:\u001b[0m\u001b[0;34m\u001b[0m\u001b[0;34m\u001b[0m\u001b[0m\n\u001b[0m\u001b[1;32m     33\u001b[0m             \u001b[0;31m#print(\"pass\",\" \",msg,\" \",el,\" \",adj)\u001b[0m\u001b[0;34m\u001b[0m\u001b[0;34m\u001b[0m\u001b[0;34m\u001b[0m\u001b[0m\n\u001b[1;32m     34\u001b[0m             \u001b[0;32mcontinue\u001b[0m\u001b[0;34m\u001b[0m\u001b[0;34m\u001b[0m\u001b[0m\n",
            "\u001b[0;31mKeyboardInterrupt\u001b[0m: "
          ]
        }
      ]
    },
    {
      "cell_type": "code",
      "metadata": {
        "id": "SHubSiokjeKr"
      },
      "source": [
        "#make the number of messages as user input\n",
        "#make the memory length as user input\n",
        "#change the incoming tagged messages into just incoming messages. Remove the tag of who is sending the messages\n",
        "#also store the forward number of unique messages vs iteration\n",
        "    ## aa forwarded how many times before it becomes irrelevant\n",
        "    ## ab forwarded how m\n",
        "#length of memory and number of unique messages\n",
        "    ##quadratic\n",
        "    ##exponential\n",
        "    ##linear\n",
        "    ##<linear"
      ],
      "execution_count": null,
      "outputs": []
    }
  ]
}
