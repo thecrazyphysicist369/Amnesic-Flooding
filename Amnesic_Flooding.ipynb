{
  "nbformat": 4,
  "nbformat_minor": 0,
  "metadata": {
    "colab": {
      "name": "Amnesic Flooding.ipynb",
      "provenance": [],
      "include_colab_link": true
    },
    "kernelspec": {
      "name": "python3",
      "display_name": "Python 3"
    },
    "language_info": {
      "name": "python"
    }
  },
  "cells": [
    {
      "cell_type": "markdown",
      "metadata": {
        "id": "view-in-github",
        "colab_type": "text"
      },
      "source": [
        "<a href=\"https://colab.research.google.com/github/thecrazyphysicist369/Amnesic-Flooding/blob/main/Amnesic_Flooding.ipynb\" target=\"_parent\"><img src=\"https://colab.research.google.com/assets/colab-badge.svg\" alt=\"Open In Colab\"/></a>"
      ]
    },
    {
      "cell_type": "code",
      "metadata": {
        "id": "RxMKQ-4SXJLA"
      },
      "source": [
        "#Importing all the necessary libraries\n",
        "import matplotlib.pyplot as plt\n",
        "import networkx as nx\n",
        "import random\n",
        "import numpy as np\n",
        "import time\n",
        "import math\n",
        "from __future__ import print_function\n",
        "from ipywidgets import interact, interactive, fixed, interact_manual\n",
        "import ipywidgets as widgets"
      ],
      "execution_count": 8,
      "outputs": []
    },
    {
      "cell_type": "markdown",
      "metadata": {
        "id": "ol9gcV9TXR8v"
      },
      "source": [
        "## Generating the Population\n"
      ]
    },
    {
      "cell_type": "code",
      "metadata": {
        "id": "bbYj-X-tTBpT"
      },
      "source": [
        "#vertex generator generates each individual with their properties\n",
        "def gen_vertex(n):\n",
        "    ver_list=[]\n",
        "    c=0\n",
        "\n",
        "    for i in range(n):\n",
        "      vertex = {\n",
        "                'index': c, \t\t\t# the unique index of the voter\n",
        "                'connected': [] ,  # the small world connections between the individuals\n",
        "                'memory': [], \n",
        "                'generator' : random.randint(0,1),\n",
        "                'msg_sharability' : random.randint(0,10),\n",
        "                'node_sharability' : 0\n",
        "                }\n",
        "      ver_list.append(vertex)\n",
        "      c+=1\n",
        "    return ver_list\n",
        "\n",
        "#Generating the Small World Network\n",
        "def gen_graph(n, k, p):\n",
        "   population = gen_vertex(n)\n",
        "   G = nx.watts_strogatz_graph(n, k, p, seed=10)\n",
        "   neighbor = []\n",
        "   for node in list(sorted(G.nodes())):\n",
        "   \tneighbours = list(nx.all_neighbors(G, node))\n",
        "   \tneighbor.append(neighbours)\n",
        "   for i in range(n):\n",
        "     population[i]['connected'] = neighbor[i]\n",
        "     population[i]['index'] = int(i)\n",
        "     population[i]['node_sharability'] = random.randint(0,k)\n",
        "   return population\n",
        "\n"
      ],
      "execution_count": 22,
      "outputs": []
    },
    {
      "cell_type": "code",
      "metadata": {
        "id": "R9nkRjgNXyBp",
        "colab": {
          "base_uri": "https://localhost:8080/"
        },
        "outputId": "d5a62a9d-3c61-4c99-c77b-b1bd5dc893e1"
      },
      "source": [
        "population = gen_graph(100, 7, 0.5)\n",
        "population[:10]"
      ],
      "execution_count": 23,
      "outputs": [
        {
          "output_type": "execute_result",
          "data": {
            "text/plain": [
              "[{'connected': [1, 99, 2, 98, 97, 22, 54, 48],\n",
              "  'generator': 0,\n",
              "  'index': 0,\n",
              "  'memory': [],\n",
              "  'msg_sharability': 5,\n",
              "  'node_sharability': 2},\n",
              " {'connected': [0, 3, 99, 4, 73, 61],\n",
              "  'generator': 0,\n",
              "  'index': 1,\n",
              "  'memory': [],\n",
              "  'msg_sharability': 3,\n",
              "  'node_sharability': 7},\n",
              " {'connected': [0, 5, 99, 59, 85],\n",
              "  'generator': 0,\n",
              "  'index': 2,\n",
              "  'memory': [],\n",
              "  'msg_sharability': 3,\n",
              "  'node_sharability': 1},\n",
              " {'connected': [4, 1, 46, 28, 95],\n",
              "  'generator': 1,\n",
              "  'index': 3,\n",
              "  'memory': [],\n",
              "  'msg_sharability': 9,\n",
              "  'node_sharability': 6},\n",
              " {'connected': [3, 5, 6, 1, 32, 88, 22, 15, 43],\n",
              "  'generator': 0,\n",
              "  'index': 4,\n",
              "  'memory': [],\n",
              "  'msg_sharability': 9,\n",
              "  'node_sharability': 3},\n",
              " {'connected': [4, 6, 7, 2, 72],\n",
              "  'generator': 1,\n",
              "  'index': 5,\n",
              "  'memory': [],\n",
              "  'msg_sharability': 2,\n",
              "  'node_sharability': 5},\n",
              " {'connected': [5, 4, 66, 44, 55, 70, 23],\n",
              "  'generator': 1,\n",
              "  'index': 6,\n",
              "  'memory': [],\n",
              "  'msg_sharability': 5,\n",
              "  'node_sharability': 5},\n",
              " {'connected': [5, 31, 75, 50, 57, 87],\n",
              "  'generator': 0,\n",
              "  'index': 7,\n",
              "  'memory': [],\n",
              "  'msg_sharability': 4,\n",
              "  'node_sharability': 7},\n",
              " {'connected': [9, 11, 28, 74, 26, 39],\n",
              "  'generator': 1,\n",
              "  'index': 8,\n",
              "  'memory': [],\n",
              "  'msg_sharability': 2,\n",
              "  'node_sharability': 5},\n",
              " {'connected': [8, 10, 11, 44],\n",
              "  'generator': 1,\n",
              "  'index': 9,\n",
              "  'memory': [],\n",
              "  'msg_sharability': 9,\n",
              "  'node_sharability': 3}]"
            ]
          },
          "metadata": {
            "tags": []
          },
          "execution_count": 23
        }
      ]
    },
    {
      "cell_type": "code",
      "metadata": {
        "colab": {
          "base_uri": "https://localhost:8080/"
        },
        "id": "paYpy5zjXmzk",
        "outputId": "c3452859-176b-49a2-9bef-ff5851cb8ab2"
      },
      "source": [
        "population[0]['connected']"
      ],
      "execution_count": null,
      "outputs": [
        {
          "output_type": "execute_result",
          "data": {
            "text/plain": [
              "[54]"
            ]
          },
          "metadata": {
            "tags": []
          },
          "execution_count": 11
        }
      ]
    },
    {
      "cell_type": "markdown",
      "metadata": {
        "id": "_87QRlYSXwtB"
      },
      "source": [
        "##Creating the list of possible messages"
      ]
    },
    {
      "cell_type": "code",
      "metadata": {
        "id": "95aznxHNXQ_k",
        "colab": {
          "base_uri": "https://localhost:8080/"
        },
        "outputId": "462d225e-84cb-4d38-93ba-e87360b5a3dc"
      },
      "source": [
        "'''\n",
        "this function generates and returns a list of bits. \n",
        "The number of bits are dependent on the parameter bits.\n",
        "\n",
        "'''\n",
        "list1=[]\n",
        "for i in range(97,123) :\n",
        "  for j in range(97,123) :\n",
        "    p=chr(i)+chr(j)\n",
        "    list1.append(p)\n",
        "print(list1)\n",
        "\n",
        "len(list1)"
      ],
      "execution_count": 10,
      "outputs": [
        {
          "output_type": "stream",
          "text": [
            "['aa', 'ab', 'ac', 'ad', 'ae', 'af', 'ag', 'ah', 'ai', 'aj', 'ak', 'al', 'am', 'an', 'ao', 'ap', 'aq', 'ar', 'as', 'at', 'au', 'av', 'aw', 'ax', 'ay', 'az', 'ba', 'bb', 'bc', 'bd', 'be', 'bf', 'bg', 'bh', 'bi', 'bj', 'bk', 'bl', 'bm', 'bn', 'bo', 'bp', 'bq', 'br', 'bs', 'bt', 'bu', 'bv', 'bw', 'bx', 'by', 'bz', 'ca', 'cb', 'cc', 'cd', 'ce', 'cf', 'cg', 'ch', 'ci', 'cj', 'ck', 'cl', 'cm', 'cn', 'co', 'cp', 'cq', 'cr', 'cs', 'ct', 'cu', 'cv', 'cw', 'cx', 'cy', 'cz', 'da', 'db', 'dc', 'dd', 'de', 'df', 'dg', 'dh', 'di', 'dj', 'dk', 'dl', 'dm', 'dn', 'do', 'dp', 'dq', 'dr', 'ds', 'dt', 'du', 'dv', 'dw', 'dx', 'dy', 'dz', 'ea', 'eb', 'ec', 'ed', 'ee', 'ef', 'eg', 'eh', 'ei', 'ej', 'ek', 'el', 'em', 'en', 'eo', 'ep', 'eq', 'er', 'es', 'et', 'eu', 'ev', 'ew', 'ex', 'ey', 'ez', 'fa', 'fb', 'fc', 'fd', 'fe', 'ff', 'fg', 'fh', 'fi', 'fj', 'fk', 'fl', 'fm', 'fn', 'fo', 'fp', 'fq', 'fr', 'fs', 'ft', 'fu', 'fv', 'fw', 'fx', 'fy', 'fz', 'ga', 'gb', 'gc', 'gd', 'ge', 'gf', 'gg', 'gh', 'gi', 'gj', 'gk', 'gl', 'gm', 'gn', 'go', 'gp', 'gq', 'gr', 'gs', 'gt', 'gu', 'gv', 'gw', 'gx', 'gy', 'gz', 'ha', 'hb', 'hc', 'hd', 'he', 'hf', 'hg', 'hh', 'hi', 'hj', 'hk', 'hl', 'hm', 'hn', 'ho', 'hp', 'hq', 'hr', 'hs', 'ht', 'hu', 'hv', 'hw', 'hx', 'hy', 'hz', 'ia', 'ib', 'ic', 'id', 'ie', 'if', 'ig', 'ih', 'ii', 'ij', 'ik', 'il', 'im', 'in', 'io', 'ip', 'iq', 'ir', 'is', 'it', 'iu', 'iv', 'iw', 'ix', 'iy', 'iz', 'ja', 'jb', 'jc', 'jd', 'je', 'jf', 'jg', 'jh', 'ji', 'jj', 'jk', 'jl', 'jm', 'jn', 'jo', 'jp', 'jq', 'jr', 'js', 'jt', 'ju', 'jv', 'jw', 'jx', 'jy', 'jz', 'ka', 'kb', 'kc', 'kd', 'ke', 'kf', 'kg', 'kh', 'ki', 'kj', 'kk', 'kl', 'km', 'kn', 'ko', 'kp', 'kq', 'kr', 'ks', 'kt', 'ku', 'kv', 'kw', 'kx', 'ky', 'kz', 'la', 'lb', 'lc', 'ld', 'le', 'lf', 'lg', 'lh', 'li', 'lj', 'lk', 'll', 'lm', 'ln', 'lo', 'lp', 'lq', 'lr', 'ls', 'lt', 'lu', 'lv', 'lw', 'lx', 'ly', 'lz', 'ma', 'mb', 'mc', 'md', 'me', 'mf', 'mg', 'mh', 'mi', 'mj', 'mk', 'ml', 'mm', 'mn', 'mo', 'mp', 'mq', 'mr', 'ms', 'mt', 'mu', 'mv', 'mw', 'mx', 'my', 'mz', 'na', 'nb', 'nc', 'nd', 'ne', 'nf', 'ng', 'nh', 'ni', 'nj', 'nk', 'nl', 'nm', 'nn', 'no', 'np', 'nq', 'nr', 'ns', 'nt', 'nu', 'nv', 'nw', 'nx', 'ny', 'nz', 'oa', 'ob', 'oc', 'od', 'oe', 'of', 'og', 'oh', 'oi', 'oj', 'ok', 'ol', 'om', 'on', 'oo', 'op', 'oq', 'or', 'os', 'ot', 'ou', 'ov', 'ow', 'ox', 'oy', 'oz', 'pa', 'pb', 'pc', 'pd', 'pe', 'pf', 'pg', 'ph', 'pi', 'pj', 'pk', 'pl', 'pm', 'pn', 'po', 'pp', 'pq', 'pr', 'ps', 'pt', 'pu', 'pv', 'pw', 'px', 'py', 'pz', 'qa', 'qb', 'qc', 'qd', 'qe', 'qf', 'qg', 'qh', 'qi', 'qj', 'qk', 'ql', 'qm', 'qn', 'qo', 'qp', 'qq', 'qr', 'qs', 'qt', 'qu', 'qv', 'qw', 'qx', 'qy', 'qz', 'ra', 'rb', 'rc', 'rd', 're', 'rf', 'rg', 'rh', 'ri', 'rj', 'rk', 'rl', 'rm', 'rn', 'ro', 'rp', 'rq', 'rr', 'rs', 'rt', 'ru', 'rv', 'rw', 'rx', 'ry', 'rz', 'sa', 'sb', 'sc', 'sd', 'se', 'sf', 'sg', 'sh', 'si', 'sj', 'sk', 'sl', 'sm', 'sn', 'so', 'sp', 'sq', 'sr', 'ss', 'st', 'su', 'sv', 'sw', 'sx', 'sy', 'sz', 'ta', 'tb', 'tc', 'td', 'te', 'tf', 'tg', 'th', 'ti', 'tj', 'tk', 'tl', 'tm', 'tn', 'to', 'tp', 'tq', 'tr', 'ts', 'tt', 'tu', 'tv', 'tw', 'tx', 'ty', 'tz', 'ua', 'ub', 'uc', 'ud', 'ue', 'uf', 'ug', 'uh', 'ui', 'uj', 'uk', 'ul', 'um', 'un', 'uo', 'up', 'uq', 'ur', 'us', 'ut', 'uu', 'uv', 'uw', 'ux', 'uy', 'uz', 'va', 'vb', 'vc', 'vd', 've', 'vf', 'vg', 'vh', 'vi', 'vj', 'vk', 'vl', 'vm', 'vn', 'vo', 'vp', 'vq', 'vr', 'vs', 'vt', 'vu', 'vv', 'vw', 'vx', 'vy', 'vz', 'wa', 'wb', 'wc', 'wd', 'we', 'wf', 'wg', 'wh', 'wi', 'wj', 'wk', 'wl', 'wm', 'wn', 'wo', 'wp', 'wq', 'wr', 'ws', 'wt', 'wu', 'wv', 'ww', 'wx', 'wy', 'wz', 'xa', 'xb', 'xc', 'xd', 'xe', 'xf', 'xg', 'xh', 'xi', 'xj', 'xk', 'xl', 'xm', 'xn', 'xo', 'xp', 'xq', 'xr', 'xs', 'xt', 'xu', 'xv', 'xw', 'xx', 'xy', 'xz', 'ya', 'yb', 'yc', 'yd', 'ye', 'yf', 'yg', 'yh', 'yi', 'yj', 'yk', 'yl', 'ym', 'yn', 'yo', 'yp', 'yq', 'yr', 'ys', 'yt', 'yu', 'yv', 'yw', 'yx', 'yy', 'yz', 'za', 'zb', 'zc', 'zd', 'ze', 'zf', 'zg', 'zh', 'zi', 'zj', 'zk', 'zl', 'zm', 'zn', 'zo', 'zp', 'zq', 'zr', 'zs', 'zt', 'zu', 'zv', 'zw', 'zx', 'zy', 'zz']\n"
          ],
          "name": "stdout"
        },
        {
          "output_type": "execute_result",
          "data": {
            "text/plain": [
              "676"
            ]
          },
          "metadata": {
            "tags": []
          },
          "execution_count": 10
        }
      ]
    },
    {
      "cell_type": "markdown",
      "metadata": {
        "id": "mp4zX9G7Ab1A"
      },
      "source": [
        "## Generation of messages by few nodes"
      ]
    },
    {
      "cell_type": "code",
      "metadata": {
        "id": "0QuW1U9rAcFk"
      },
      "source": [
        "'''This generates information in few of the vertex of the given vertex list.\n",
        "   The number of vertex that can generate the information is based on the percent variable.\n",
        "   The generated information should be put in the message list of the concerned vertex.\n",
        "'''                 \n",
        "\n"
      ],
      "execution_count": null,
      "outputs": []
    },
    {
      "cell_type": "code",
      "metadata": {
        "id": "2Qt4U__dYY2u"
      },
      "source": [
        ""
      ],
      "execution_count": null,
      "outputs": []
    },
    {
      "cell_type": "markdown",
      "metadata": {
        "id": "USiG_X5XAty9"
      },
      "source": [
        "## Distribution of messages all over the graph"
      ]
    },
    {
      "cell_type": "code",
      "metadata": {
        "id": "0pmc-vhgAt9H"
      },
      "source": [
        "'''\n",
        "This function is for passing the information.\n",
        "It takes one vertex at a time\n",
        "It checks if the vertex's neighbors has the same message as the vertex.\n",
        "If it doesn't have, the vertex sends the message to the neighbor.\n",
        "'''\n"
      ],
      "execution_count": null,
      "outputs": []
    },
    {
      "cell_type": "markdown",
      "metadata": {
        "id": "h6ausGo6A3pw"
      },
      "source": [
        ""
      ]
    },
    {
      "cell_type": "code",
      "metadata": {
        "id": "iq5XVeTKA3zT"
      },
      "source": [
        "\n",
        "def round_Calculation(population,mem,nxt):\n",
        " ## k --> memory of each node\n",
        "  cur=[]  ## this cur array stores all the nodes to be visited in the current round\n",
        "  ##nxt--> #stores to be visited in next round\n",
        "  rounds=0\n",
        "  while(True):\n",
        "    if(len(nxt)==0): ## we break if no nodes to be visited in next round\n",
        "      break\n",
        "    rounds=rounds+1\n",
        "    cur=nxt\n",
        "    nxt=[]\n",
        "    for el in cur: ##loops through all the elements in cur\n",
        "      for adj in population[el]['connected']: ##loops through all the adjacent nodes of the current element\n",
        "        if(el in population[adj]['memory']):  ##checks in his memory if the adjacent node has already received from cur \n",
        "          continue\n",
        "        if(len(population[adj]['memory'])>=mem):  ## if memory exceeds k then pop and then push the cur element to memory of adjacent\n",
        "          population[adj]['memory'].pop(0)\n",
        "          population[adj]['memory'].append(el)\n",
        "          nxt.append(adj)\n",
        "        else:\n",
        "          population[adj]['memory'].append(el)\n",
        "          nxt.append(adj)\n",
        "      #print(adj,\" \",el)\n",
        "  print(rounds)\n",
        "\n",
        "\n",
        "\n",
        "\n",
        "     \n",
        "\n",
        "    "
      ],
      "execution_count": 11,
      "outputs": []
    },
    {
      "cell_type": "code",
      "metadata": {
        "id": "w_XTWgNGa_ni"
      },
      "source": [
        "round_Calculation(population,6,[1,5])\n",
        "population"
      ],
      "execution_count": null,
      "outputs": []
    },
    {
      "cell_type": "code",
      "metadata": {
        "colab": {
          "base_uri": "https://localhost:8080/"
        },
        "id": "GVZ9UNIMfjiy",
        "outputId": "6ed83249-3b66-4452-fec1-39cce8d4e7db"
      },
      "source": [
        "round_Calculation(population, 5, [8,10])"
      ],
      "execution_count": 15,
      "outputs": [
        {
          "output_type": "stream",
          "text": [
            "1\n"
          ],
          "name": "stdout"
        }
      ]
    },
    {
      "cell_type": "code",
      "metadata": {
        "id": "LBfzMN2Jf7y6"
      },
      "source": [
        ""
      ],
      "execution_count": null,
      "outputs": []
    }
  ]
}