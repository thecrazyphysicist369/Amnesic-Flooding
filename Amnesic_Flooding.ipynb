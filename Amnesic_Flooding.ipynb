{
  "nbformat": 4,
  "nbformat_minor": 0,
  "metadata": {
    "colab": {
      "name": "Amnesic Flooding.ipynb",
      "provenance": [],
      "include_colab_link": true
    },
    "kernelspec": {
      "name": "python3",
      "display_name": "Python 3"
    },
    "language_info": {
      "name": "python"
    }
  },
  "cells": [
    {
      "cell_type": "markdown",
      "metadata": {
        "id": "view-in-github",
        "colab_type": "text"
      },
      "source": [
        "<a href=\"https://colab.research.google.com/github/thecrazyphysicist369/Amnesic-Flooding/blob/main/Amnesic_Flooding.ipynb\" target=\"_parent\"><img src=\"https://colab.research.google.com/assets/colab-badge.svg\" alt=\"Open In Colab\"/></a>"
      ]
    },
    {
      "cell_type": "code",
      "metadata": {
        "id": "RxMKQ-4SXJLA"
      },
      "source": [
        "#Importing all the necessary libraries\n",
        "import matplotlib.pyplot as plt\n",
        "import networkx as nx\n",
        "import random\n",
        "import numpy as np\n",
        "import time\n",
        "import math\n",
        "from __future__ import print_function\n",
        "from ipywidgets import interact, interactive, fixed, interact_manual\n",
        "import ipywidgets as widgets"
      ],
      "execution_count": null,
      "outputs": []
    },
    {
      "cell_type": "markdown",
      "metadata": {
        "id": "ol9gcV9TXR8v"
      },
      "source": [
        "## Generating the Population"
      ]
    },
    {
      "cell_type": "code",
      "metadata": {
        "id": "bbYj-X-tTBpT"
      },
      "source": [
        "#vertex generator generates each individual with their properties\n",
        "def gen_vertex(n):\n",
        "    ver_list=[]\n",
        "    c=0\n",
        "\n",
        "    for i in range(n):\n",
        "      vertex = {\n",
        "                'index': c, \t\t\t# the unique index of the voter\n",
        "                'connected': [] ,  # the small world connections between the individuals\n",
        "                'memory': [] \n",
        "                \n",
        "                }\n",
        "      ver_list.append(vertex)\n",
        "      c+=1\n",
        "    return ver_list\n",
        "\n",
        "#Generating the Small World Network\n",
        "def gen_graph(n, k, p):\n",
        "   population = gen_vertex(n)\n",
        "   G = nx.watts_strogatz_graph(n, k, p, seed=10)\n",
        "   neighbor = []\n",
        "   for node in list(sorted(G.nodes())):\n",
        "   \tneighbours = list(nx.all_neighbors(G, node))\n",
        "   \tneighbor.append(neighbours)\n",
        "   for i in range(n):\n",
        "     population[i]['connected'] = neighbor[i]\n",
        "     population[i]['index'] = int(i)\n",
        "   return population\n",
        "\n"
      ],
      "execution_count": null,
      "outputs": []
    },
    {
      "cell_type": "code",
      "metadata": {
        "colab": {
          "base_uri": "https://localhost:8080/"
        },
        "id": "R9nkRjgNXyBp",
        "outputId": "19a34877-a4b2-484d-9ed5-61af6dc37ce6"
      },
      "source": [
        "population = gen_graph(100, 3, 0.9)\n",
        "population"
      ],
      "execution_count": null,
      "outputs": [
        {
          "output_type": "execute_result",
          "data": {
            "text/plain": [
              "[{'connected': [54], 'index': 0},\n",
              " {'connected': [26], 'index': 1},\n",
              " {'connected': [62], 'index': 2},\n",
              " {'connected': [83], 'index': 3},\n",
              " {'connected': [66, 26, 63, 76], 'index': 4},\n",
              " {'connected': [9, 16], 'index': 5},\n",
              " {'connected': [95, 65], 'index': 6},\n",
              " {'connected': [8], 'index': 7},\n",
              " {'connected': [7, 17, 22], 'index': 8},\n",
              " {'connected': [5, 48], 'index': 9},\n",
              " {'connected': [86], 'index': 10},\n",
              " {'connected': [22, 83], 'index': 11},\n",
              " {'connected': [84, 61], 'index': 12},\n",
              " {'connected': [58, 85], 'index': 13},\n",
              " {'connected': [30, 80], 'index': 14},\n",
              " {'connected': [16, 40], 'index': 15},\n",
              " {'connected': [15, 5], 'index': 16},\n",
              " {'connected': [8, 30, 57], 'index': 17},\n",
              " {'connected': [38], 'index': 18},\n",
              " {'connected': [98, 66], 'index': 19},\n",
              " {'connected': [40, 24], 'index': 20},\n",
              " {'connected': [57, 55, 60], 'index': 21},\n",
              " {'connected': [11, 8, 44], 'index': 22},\n",
              " {'connected': [41], 'index': 23},\n",
              " {'connected': [20, 35, 89], 'index': 24},\n",
              " {'connected': [52], 'index': 25},\n",
              " {'connected': [1, 4, 92, 99], 'index': 26},\n",
              " {'connected': [77], 'index': 27},\n",
              " {'connected': [68, 46], 'index': 28},\n",
              " {'connected': [30], 'index': 29},\n",
              " {'connected': [29, 14, 17, 49, 52, 75], 'index': 30},\n",
              " {'connected': [47, 82], 'index': 31},\n",
              " {'connected': [33], 'index': 32},\n",
              " {'connected': [32, 99, 49, 71], 'index': 33},\n",
              " {'connected': [56, 53], 'index': 34},\n",
              " {'connected': [24], 'index': 35},\n",
              " {'connected': [37], 'index': 36},\n",
              " {'connected': [36, 53], 'index': 37},\n",
              " {'connected': [18, 87, 41], 'index': 38},\n",
              " {'connected': [79, 94], 'index': 39},\n",
              " {'connected': [20, 15, 48], 'index': 40},\n",
              " {'connected': [23, 38], 'index': 41},\n",
              " {'connected': [83, 73], 'index': 42},\n",
              " {'connected': [44], 'index': 43},\n",
              " {'connected': [43, 22, 45], 'index': 44},\n",
              " {'connected': [44], 'index': 45},\n",
              " {'connected': [28, 88], 'index': 46},\n",
              " {'connected': [31, 91], 'index': 47},\n",
              " {'connected': [9, 40], 'index': 48},\n",
              " {'connected': [30, 33, 59], 'index': 49},\n",
              " {'connected': [74], 'index': 50},\n",
              " {'connected': [63], 'index': 51},\n",
              " {'connected': [25, 30], 'index': 52},\n",
              " {'connected': [37, 34], 'index': 53},\n",
              " {'connected': [0, 77], 'index': 54},\n",
              " {'connected': [21, 69], 'index': 55},\n",
              " {'connected': [34, 59, 64], 'index': 56},\n",
              " {'connected': [21, 17, 70], 'index': 57},\n",
              " {'connected': [13, 74, 67], 'index': 58},\n",
              " {'connected': [56, 49, 95], 'index': 59},\n",
              " {'connected': [21], 'index': 60},\n",
              " {'connected': [12, 79], 'index': 61},\n",
              " {'connected': [63, 2, 68], 'index': 62},\n",
              " {'connected': [62, 51, 4], 'index': 63},\n",
              " {'connected': [56], 'index': 64},\n",
              " {'connected': [6], 'index': 65},\n",
              " {'connected': [4, 19, 74], 'index': 66},\n",
              " {'connected': [58], 'index': 67},\n",
              " {'connected': [28, 62], 'index': 68},\n",
              " {'connected': [55], 'index': 69},\n",
              " {'connected': [57, 84], 'index': 70},\n",
              " {'connected': [33], 'index': 71},\n",
              " {'connected': [89], 'index': 72},\n",
              " {'connected': [42], 'index': 73},\n",
              " {'connected': [50, 58, 66], 'index': 74},\n",
              " {'connected': [30, 91], 'index': 75},\n",
              " {'connected': [4], 'index': 76},\n",
              " {'connected': [27, 54, 82], 'index': 77},\n",
              " {'connected': [79], 'index': 78},\n",
              " {'connected': [78, 39, 61], 'index': 79},\n",
              " {'connected': [14], 'index': 80},\n",
              " {'connected': [82], 'index': 81},\n",
              " {'connected': [81, 77, 31], 'index': 82},\n",
              " {'connected': [3, 42, 11], 'index': 83},\n",
              " {'connected': [12, 70], 'index': 84},\n",
              " {'connected': [13, 87, 98], 'index': 85},\n",
              " {'connected': [87, 10], 'index': 86},\n",
              " {'connected': [86, 38, 85], 'index': 87},\n",
              " {'connected': [46, 96], 'index': 88},\n",
              " {'connected': [72, 24], 'index': 89},\n",
              " {'connected': [91], 'index': 90},\n",
              " {'connected': [90, 47, 75], 'index': 91},\n",
              " {'connected': [26, 97], 'index': 92},\n",
              " {'connected': [94], 'index': 93},\n",
              " {'connected': [93, 39], 'index': 94},\n",
              " {'connected': [6, 59], 'index': 95},\n",
              " {'connected': [88], 'index': 96},\n",
              " {'connected': [92], 'index': 97},\n",
              " {'connected': [19, 85], 'index': 98},\n",
              " {'connected': [33, 26], 'index': 99}]"
            ]
          },
          "metadata": {
            "tags": []
          },
          "execution_count": 9
        }
      ]
    },
    {
      "cell_type": "code",
      "metadata": {
        "colab": {
          "base_uri": "https://localhost:8080/"
        },
        "id": "paYpy5zjXmzk",
        "outputId": "c3452859-176b-49a2-9bef-ff5851cb8ab2"
      },
      "source": [
        "population[0]['connected']"
      ],
      "execution_count": null,
      "outputs": [
        {
          "output_type": "execute_result",
          "data": {
            "text/plain": [
              "[54]"
            ]
          },
          "metadata": {
            "tags": []
          },
          "execution_count": 11
        }
      ]
    },
    {
      "cell_type": "markdown",
      "metadata": {
        "id": "_87QRlYSXwtB"
      },
      "source": [
        "##Creating the list of possible messages"
      ]
    },
    {
      "cell_type": "code",
      "metadata": {
        "id": "95aznxHNXQ_k",
        "colab": {
          "base_uri": "https://localhost:8080/"
        },
        "outputId": "506ae908-77e0-4168-b901-fc7aeac2501c"
      },
      "source": [
        "'''\n",
        "this function generates and returns a list of bits. \n",
        "The number of bits are dependent on the parameter bits.\n",
        "\n",
        "'''\n",
        "list1=[]\n",
        "for i in range(97,123) :\n",
        "  for j in range(97,123) :\n",
        "    p=chr(i)+chr(j)\n",
        "    list1.append(p)\n",
        "print(list1)\n",
        "\n",
        "len(list1)"
      ],
      "execution_count": null,
      "outputs": [
        {
          "output_type": "stream",
          "text": [
            "['aa', 'ab', 'ac', 'ad', 'ae', 'af', 'ag', 'ah', 'ai', 'aj', 'ak', 'al', 'am', 'an', 'ao', 'ap', 'aq', 'ar', 'as', 'at', 'au', 'av', 'aw', 'ax', 'ay', 'az', 'ba', 'bb', 'bc', 'bd', 'be', 'bf', 'bg', 'bh', 'bi', 'bj', 'bk', 'bl', 'bm', 'bn', 'bo', 'bp', 'bq', 'br', 'bs', 'bt', 'bu', 'bv', 'bw', 'bx', 'by', 'bz', 'ca', 'cb', 'cc', 'cd', 'ce', 'cf', 'cg', 'ch', 'ci', 'cj', 'ck', 'cl', 'cm', 'cn', 'co', 'cp', 'cq', 'cr', 'cs', 'ct', 'cu', 'cv', 'cw', 'cx', 'cy', 'cz', 'da', 'db', 'dc', 'dd', 'de', 'df', 'dg', 'dh', 'di', 'dj', 'dk', 'dl', 'dm', 'dn', 'do', 'dp', 'dq', 'dr', 'ds', 'dt', 'du', 'dv', 'dw', 'dx', 'dy', 'dz', 'ea', 'eb', 'ec', 'ed', 'ee', 'ef', 'eg', 'eh', 'ei', 'ej', 'ek', 'el', 'em', 'en', 'eo', 'ep', 'eq', 'er', 'es', 'et', 'eu', 'ev', 'ew', 'ex', 'ey', 'ez', 'fa', 'fb', 'fc', 'fd', 'fe', 'ff', 'fg', 'fh', 'fi', 'fj', 'fk', 'fl', 'fm', 'fn', 'fo', 'fp', 'fq', 'fr', 'fs', 'ft', 'fu', 'fv', 'fw', 'fx', 'fy', 'fz', 'ga', 'gb', 'gc', 'gd', 'ge', 'gf', 'gg', 'gh', 'gi', 'gj', 'gk', 'gl', 'gm', 'gn', 'go', 'gp', 'gq', 'gr', 'gs', 'gt', 'gu', 'gv', 'gw', 'gx', 'gy', 'gz', 'ha', 'hb', 'hc', 'hd', 'he', 'hf', 'hg', 'hh', 'hi', 'hj', 'hk', 'hl', 'hm', 'hn', 'ho', 'hp', 'hq', 'hr', 'hs', 'ht', 'hu', 'hv', 'hw', 'hx', 'hy', 'hz', 'ia', 'ib', 'ic', 'id', 'ie', 'if', 'ig', 'ih', 'ii', 'ij', 'ik', 'il', 'im', 'in', 'io', 'ip', 'iq', 'ir', 'is', 'it', 'iu', 'iv', 'iw', 'ix', 'iy', 'iz', 'ja', 'jb', 'jc', 'jd', 'je', 'jf', 'jg', 'jh', 'ji', 'jj', 'jk', 'jl', 'jm', 'jn', 'jo', 'jp', 'jq', 'jr', 'js', 'jt', 'ju', 'jv', 'jw', 'jx', 'jy', 'jz', 'ka', 'kb', 'kc', 'kd', 'ke', 'kf', 'kg', 'kh', 'ki', 'kj', 'kk', 'kl', 'km', 'kn', 'ko', 'kp', 'kq', 'kr', 'ks', 'kt', 'ku', 'kv', 'kw', 'kx', 'ky', 'kz', 'la', 'lb', 'lc', 'ld', 'le', 'lf', 'lg', 'lh', 'li', 'lj', 'lk', 'll', 'lm', 'ln', 'lo', 'lp', 'lq', 'lr', 'ls', 'lt', 'lu', 'lv', 'lw', 'lx', 'ly', 'lz', 'ma', 'mb', 'mc', 'md', 'me', 'mf', 'mg', 'mh', 'mi', 'mj', 'mk', 'ml', 'mm', 'mn', 'mo', 'mp', 'mq', 'mr', 'ms', 'mt', 'mu', 'mv', 'mw', 'mx', 'my', 'mz', 'na', 'nb', 'nc', 'nd', 'ne', 'nf', 'ng', 'nh', 'ni', 'nj', 'nk', 'nl', 'nm', 'nn', 'no', 'np', 'nq', 'nr', 'ns', 'nt', 'nu', 'nv', 'nw', 'nx', 'ny', 'nz', 'oa', 'ob', 'oc', 'od', 'oe', 'of', 'og', 'oh', 'oi', 'oj', 'ok', 'ol', 'om', 'on', 'oo', 'op', 'oq', 'or', 'os', 'ot', 'ou', 'ov', 'ow', 'ox', 'oy', 'oz', 'pa', 'pb', 'pc', 'pd', 'pe', 'pf', 'pg', 'ph', 'pi', 'pj', 'pk', 'pl', 'pm', 'pn', 'po', 'pp', 'pq', 'pr', 'ps', 'pt', 'pu', 'pv', 'pw', 'px', 'py', 'pz', 'qa', 'qb', 'qc', 'qd', 'qe', 'qf', 'qg', 'qh', 'qi', 'qj', 'qk', 'ql', 'qm', 'qn', 'qo', 'qp', 'qq', 'qr', 'qs', 'qt', 'qu', 'qv', 'qw', 'qx', 'qy', 'qz', 'ra', 'rb', 'rc', 'rd', 're', 'rf', 'rg', 'rh', 'ri', 'rj', 'rk', 'rl', 'rm', 'rn', 'ro', 'rp', 'rq', 'rr', 'rs', 'rt', 'ru', 'rv', 'rw', 'rx', 'ry', 'rz', 'sa', 'sb', 'sc', 'sd', 'se', 'sf', 'sg', 'sh', 'si', 'sj', 'sk', 'sl', 'sm', 'sn', 'so', 'sp', 'sq', 'sr', 'ss', 'st', 'su', 'sv', 'sw', 'sx', 'sy', 'sz', 'ta', 'tb', 'tc', 'td', 'te', 'tf', 'tg', 'th', 'ti', 'tj', 'tk', 'tl', 'tm', 'tn', 'to', 'tp', 'tq', 'tr', 'ts', 'tt', 'tu', 'tv', 'tw', 'tx', 'ty', 'tz', 'ua', 'ub', 'uc', 'ud', 'ue', 'uf', 'ug', 'uh', 'ui', 'uj', 'uk', 'ul', 'um', 'un', 'uo', 'up', 'uq', 'ur', 'us', 'ut', 'uu', 'uv', 'uw', 'ux', 'uy', 'uz', 'va', 'vb', 'vc', 'vd', 've', 'vf', 'vg', 'vh', 'vi', 'vj', 'vk', 'vl', 'vm', 'vn', 'vo', 'vp', 'vq', 'vr', 'vs', 'vt', 'vu', 'vv', 'vw', 'vx', 'vy', 'vz', 'wa', 'wb', 'wc', 'wd', 'we', 'wf', 'wg', 'wh', 'wi', 'wj', 'wk', 'wl', 'wm', 'wn', 'wo', 'wp', 'wq', 'wr', 'ws', 'wt', 'wu', 'wv', 'ww', 'wx', 'wy', 'wz', 'xa', 'xb', 'xc', 'xd', 'xe', 'xf', 'xg', 'xh', 'xi', 'xj', 'xk', 'xl', 'xm', 'xn', 'xo', 'xp', 'xq', 'xr', 'xs', 'xt', 'xu', 'xv', 'xw', 'xx', 'xy', 'xz', 'ya', 'yb', 'yc', 'yd', 'ye', 'yf', 'yg', 'yh', 'yi', 'yj', 'yk', 'yl', 'ym', 'yn', 'yo', 'yp', 'yq', 'yr', 'ys', 'yt', 'yu', 'yv', 'yw', 'yx', 'yy', 'yz', 'za', 'zb', 'zc', 'zd', 'ze', 'zf', 'zg', 'zh', 'zi', 'zj', 'zk', 'zl', 'zm', 'zn', 'zo', 'zp', 'zq', 'zr', 'zs', 'zt', 'zu', 'zv', 'zw', 'zx', 'zy', 'zz']\n"
          ],
          "name": "stdout"
        },
        {
          "output_type": "execute_result",
          "data": {
            "text/plain": [
              "676"
            ]
          },
          "metadata": {
            "tags": []
          },
          "execution_count": 14
        }
      ]
    },
    {
      "cell_type": "markdown",
      "metadata": {
        "id": "mp4zX9G7Ab1A"
      },
      "source": [
        "## Generation of messages by few nodes"
      ]
    },
    {
      "cell_type": "code",
      "metadata": {
        "id": "0QuW1U9rAcFk"
      },
      "source": [
        "'''This generates information in few of the vertex of the given vertex list.\n",
        "   The number of vertex that can generate the information is based on the percent variable.\n",
        "   The generated information should be put in the message list of the concerned vertex.\n",
        "'''                 \n",
        "def info_gen(verlist, percent):\n",
        "  length = len(verlist)\n",
        "  number_of_generators = int(length*(percent/100))\n",
        "  for i in range(number_of_generators):\n",
        "    individual = random.randint(0,length)\n",
        "    verlist[individual]['generator'] = True\n",
        "  return list\n"
      ],
      "execution_count": null,
      "outputs": []
    },
    {
      "cell_type": "code",
      "metadata": {
        "id": "2Qt4U__dYY2u"
      },
      "source": [
        ""
      ],
      "execution_count": null,
      "outputs": []
    },
    {
      "cell_type": "markdown",
      "metadata": {
        "id": "USiG_X5XAty9"
      },
      "source": [
        "## Distribution of messages all over the graph"
      ]
    },
    {
      "cell_type": "code",
      "metadata": {
        "id": "0pmc-vhgAt9H"
      },
      "source": [
        "'''\n",
        "This function is for passing the information.\n",
        "It takes one vertex at a time\n",
        "It checks if the vertex's neighbors has the same message as the vertex.\n",
        "If it doesn't have, the vertex sends the message to the neighbor.\n",
        "'''\n"
      ],
      "execution_count": null,
      "outputs": []
    },
    {
      "cell_type": "markdown",
      "metadata": {
        "id": "h6ausGo6A3pw"
      },
      "source": [
        ""
      ]
    },
    {
      "cell_type": "code",
      "metadata": {
        "id": "iq5XVeTKA3zT"
      },
      "source": [
        "\n",
        "def round_Calculation(population,k,nxt):\n",
        " ## k --> memory of each node\n",
        "  cur=[]  ## this cur array stores all the nodes to be visited in the current round\n",
        "  ##nxt--> #stores to be visited in next round\n",
        "  rounds=0\n",
        "  while(True):\n",
        "    if(len(nxt)==0): ## we break if no nodes to be visited in next round\n",
        "      break\n",
        "    rounds=rounds+1\n",
        "    cur=nxt\n",
        "    nxt=[]\n",
        "    for el in cur: ##loops through all the elements in cur\n",
        "      for adj in population[el]['connected']: ##loops through all the adjacent nodes of the current element\n",
        "        if(el in population[adj]['memory']):  ##checks in his memory if the adjacent node has already received from cur \n",
        "          continue\n",
        "        if(len(population[adj]['memory'])>=k):  ## if memory exceeds k then pop and then push the cur element to memory of adjacent\n",
        "          population[adj]['memory'].pop(0)\n",
        "          population[adj]['memory'].append(el)\n",
        "          nxt.append(adj)\n",
        "        else:\n",
        "          population[adj]['memory'].append(el)\n",
        "          nxt.append(adj)\n",
        "      #print(adj,\" \",el)\n",
        "  print(rounds)\n",
        "\n",
        "\n",
        "\n",
        "\n",
        "     \n",
        "\n",
        "    "
      ],
      "execution_count": null,
      "outputs": []
    },
    {
      "cell_type": "code",
      "metadata": {
        "id": "w_XTWgNGa_ni"
      },
      "source": [
        "round_Calculation(population,6,[0])\n",
        "population"
      ],
      "execution_count": null,
      "outputs": []
    }
  ]
}